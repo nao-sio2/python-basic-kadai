{
  "nbformat": 4,
  "nbformat_minor": 0,
  "metadata": {
    "colab": {
      "provenance": []
    },
    "kernelspec": {
      "name": "python3",
      "display_name": "Python 3"
    },
    "language_info": {
      "name": "python"
    }
  },
  "cells": [
    {
      "cell_type": "code",
      "execution_count": null,
      "metadata": {
        "id": "WH7b_e0GfGg6"
      },
      "outputs": [],
      "source": [
        "# 課題17）学習したことを組み合わせてコードを書こう\n",
        "\n",
        "class Human:\n",
        "      def __init__(self,name,age):\n",
        "          self.name = name\n",
        "          self.age = age\n",
        "      def check_adult(self,age):\n",
        "          if self.age >= 20:\n",
        "              print(f\"{self.name}は大人です。\")\n",
        "          else:\n",
        "              print(f\"{self.name}は大人ではありません。\")\n",
        "\n",
        "human1 = Human(\"侍太郎\",35)\n",
        "human2 = Human(\"侍花子\",22)\n",
        "human3 = Human(\"侍次郎\",30)\n",
        "human4 = Human(\"侍三郎\",17)\n",
        "\n",
        "humans = [human1,human2,human3,human4]\n",
        "for human in humans:\n",
        "    human.check_adult(human.age)"
      ]
    }
  ]
}