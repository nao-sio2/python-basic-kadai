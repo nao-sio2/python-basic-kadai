{
  "nbformat": 4,
  "nbformat_minor": 0,
  "metadata": {
    "colab": {
      "provenance": []
    },
    "kernelspec": {
      "name": "python3",
      "display_name": "Python 3"
    },
    "language_info": {
      "name": "python"
    }
  },
  "cells": [
    {
      "cell_type": "code",
      "execution_count": 1,
      "metadata": {
        "colab": {
          "base_uri": "https://localhost:8080/"
        },
        "id": "SnfAF14Qy0BK",
        "outputId": "2ac9abdb-f7de-49d8-c899-e4fcc4a852ea"
      },
      "outputs": [
        {
          "output_type": "stream",
          "name": "stdout",
          "text": [
            "91\n"
          ]
        }
      ],
      "source": [
        "# 課題）条件分岐のif文で処理を切り替えよう\n",
        "\n",
        "##　ランダムな整数を利用するために、randomモジュールをインポート\n",
        "import random\n",
        "\n",
        "##　変数varにランダムな正の整数（上限は100と仮定）を代入する\n",
        "var = random.randint(1,100)\n",
        "\n",
        "##　変数varが、3の倍数と5の倍数の両方に該当する場合は「FizzBuzz」を出力\n",
        "if (var % 3 == 0) and (var % 5 == 0):\n",
        "    print(\"FizzBuzz\")\n",
        "##　変数varが、3の倍数の場合は「Fizz」を出力\n",
        "elif var % 3 == 0:\n",
        "    print(\"Fizz\")\n",
        "##　変数varが、5の倍数の場合は「Buzz」を出力\n",
        "elif var % 5 == 0:\n",
        "    print(\"Buzz\")\n",
        "##　上記のどの場合にも該当しない場合は、変数varの値を出力\n",
        "else:\n",
        "    print(var)"
      ]
    }
  ]
}