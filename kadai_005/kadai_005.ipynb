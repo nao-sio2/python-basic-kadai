{
  "nbformat": 4,
  "nbformat_minor": 0,
  "metadata": {
    "colab": {
      "provenance": []
    },
    "kernelspec": {
      "name": "python3",
      "display_name": "Python 3"
    },
    "language_info": {
      "name": "python"
    }
  },
  "cells": [
    {
      "cell_type": "code",
      "execution_count": 4,
      "metadata": {
        "id": "Z2Ty6a3UlGA8",
        "colab": {
          "base_uri": "https://localhost:8080/"
        },
        "outputId": "24ee5213-39f5-4d7c-a82c-2c254c219865"
      },
      "outputs": [
        {
          "output_type": "stream",
          "name": "stdout",
          "text": [
            "75.0cm²\n"
          ]
        }
      ],
      "source": [
        "# 課題）変数を使って四則演算しよう\n",
        "\n",
        "## 台形における上辺、下辺、高さを下記で定義する（単位：cm）\n",
        "top_side = 10\n",
        "bottom_side = 20\n",
        "height = 5\n",
        "\n",
        "## 公式：台形の面積 =（上辺＋下辺）× 高さ ÷ 2\n",
        "area = (top_side + bottom_side) * height / 2\n",
        "print(str(area)+\"cm²\")"
      ]
    }
  ]
}