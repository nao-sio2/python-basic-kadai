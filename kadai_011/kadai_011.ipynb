{
  "nbformat": 4,
  "nbformat_minor": 0,
  "metadata": {
    "colab": {
      "provenance": []
    },
    "kernelspec": {
      "name": "python3",
      "display_name": "Python 3"
    },
    "language_info": {
      "name": "python"
    }
  },
  "cells": [
    {
      "cell_type": "code",
      "execution_count": null,
      "metadata": {
        "id": "F4QEE-LjglLC"
      },
      "outputs": [],
      "source": [
        "# 課題）繰り返し処理を使いこなそう\n",
        "\n",
        "##　for文を使用した場合\n",
        "array = [\"水\",\"金\",\"地\",\"火\",\"木\",\"土\",\"天\",\"海\",\"冥\"]\n",
        "for value in array:\n",
        "    print(value)\n",
        "\n",
        "##　while文を使用した場合\n",
        "array = [\"水\",\"金\",\"地\",\"火\",\"木\",\"土\",\"天\",\"海\",\"冥\"]\n",
        "i = 0\n",
        "while i < len(array):\n",
        "    value = array[i]\n",
        "    print(value)\n",
        "    i = i + 1"
      ]
    }
  ]
}