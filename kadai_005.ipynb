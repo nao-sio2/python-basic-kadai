{
  "nbformat": 4,
  "nbformat_minor": 0,
  "metadata": {
    "colab": {
      "provenance": []
    },
    "kernelspec": {
      "name": "python3",
      "display_name": "Python 3"
    },
    "language_info": {
      "name": "python"
    }
  },
  "cells": [
    {
      "cell_type": "code",
      "execution_count": null,
      "metadata": {
        "id": "Z2Ty6a3UlGA8"
      },
      "outputs": [],
      "source": [
        "# 課題）変数を使って四則演算しよう\n",
        "\n",
        "## 台形における上辺、下辺、高さを下記で定義する（単位：cm）\n",
        "top_side = 10\n",
        "bottom_side = 20\n",
        "height = 5\n",
        "\n",
        "## 公式：台形の面積 =（上辺＋下辺）× 高さ ÷ 2\n",
        "print(f\"{(top_side + bottom_side) * height / 2} cm²\")"
      ]
    }
  ]
}