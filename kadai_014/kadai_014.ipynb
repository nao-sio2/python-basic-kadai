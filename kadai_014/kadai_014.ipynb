{
  "nbformat": 4,
  "nbformat_minor": 0,
  "metadata": {
    "colab": {
      "provenance": []
    },
    "kernelspec": {
      "name": "python3",
      "display_name": "Python 3"
    },
    "language_info": {
      "name": "python"
    }
  },
  "cells": [
    {
      "cell_type": "code",
      "execution_count": null,
      "metadata": {
        "id": "yOnR8vpoNESi"
      },
      "outputs": [],
      "source": [
        "# 課題14）変数スコープを正しく使おう\n",
        "\n",
        "tax = 1.1\n",
        "def total(price1,price2):\n",
        "    return price1 + price2\n",
        "print (total(100,200) * tax)"
      ]
    }
  ]
}