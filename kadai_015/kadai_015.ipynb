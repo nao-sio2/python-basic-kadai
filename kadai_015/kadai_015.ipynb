{
  "nbformat": 4,
  "nbformat_minor": 0,
  "metadata": {
    "colab": {
      "provenance": []
    },
    "kernelspec": {
      "name": "python3",
      "display_name": "Python 3"
    },
    "language_info": {
      "name": "python"
    }
  },
  "cells": [
    {
      "cell_type": "code",
      "execution_count": 1,
      "metadata": {
        "colab": {
          "base_uri": "https://localhost:8080/"
        },
        "id": "ePq__ohONE9X",
        "outputId": "41c041e3-d80d-4cbb-f36b-bb869498448c"
      },
      "outputs": [
        {
          "output_type": "stream",
          "name": "stdout",
          "text": [
            "名前：侍太郎、年齢：29歳\n"
          ]
        }
      ],
      "source": [
        "# 課題15）クラスを使いこなそう\n",
        "\n",
        "class Human:\n",
        "    def __init__(self,name,age):\n",
        "        self.name = name\n",
        "        self.age = age\n",
        "    def printinfo(self):\n",
        "        print(f\"名前：{self.name}、年齢：{self.age}歳\")\n",
        "\n",
        "human = Human(\"侍太郎\",29)\n",
        "human.printinfo()"
      ]
    }
  ]
}