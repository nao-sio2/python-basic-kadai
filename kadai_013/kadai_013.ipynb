{
  "nbformat": 4,
  "nbformat_minor": 0,
  "metadata": {
    "colab": {
      "provenance": []
    },
    "kernelspec": {
      "name": "python3",
      "display_name": "Python 3"
    },
    "language_info": {
      "name": "python"
    }
  },
  "cells": [
    {
      "cell_type": "code",
      "execution_count": null,
      "metadata": {
        "id": "kRT5G8mVCPjy"
      },
      "outputs": [],
      "source": [
        "# 課題13）関数を使いこなそう\n",
        "\n",
        "def calculate_total(price,tax):\n",
        "      total = price + (price * tax / 100)\n",
        "      return total\n",
        "total_price = calculate_total(110,10)\n",
        "total_price"
      ]
    }
  ]
}